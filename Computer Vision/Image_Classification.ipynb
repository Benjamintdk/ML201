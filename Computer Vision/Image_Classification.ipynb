{
  "nbformat": 4,
  "nbformat_minor": 0,
  "metadata": {
    "colab": {
      "name": "Image_Classification.ipynb",
      "provenance": [],
      "collapsed_sections": [
        "q6CKL722fm4O",
        "gr4PpO7yZLr1",
        "RLYsOFsbfw8v"
      ],
      "toc_visible": true
    },
    "kernelspec": {
      "name": "python3",
      "display_name": "Python 3"
    },
    "accelerator": "GPU"
  },
  "cells": [
    {
      "cell_type": "markdown",
      "metadata": {
        "id": "q6CKL722fm4O",
        "colab_type": "text"
      },
      "source": [
        "# **Checking tensorflow version**"
      ]
    },
    {
      "cell_type": "code",
      "metadata": {
        "id": "__CK0MWlDqal",
        "colab_type": "code",
        "colab": {}
      },
      "source": [
        "import tensorflow as tf\n",
        "print(tf.__version__)"
      ],
      "execution_count": 0,
      "outputs": []
    },
    {
      "cell_type": "code",
      "metadata": {
        "id": "rzICxcbTfsdE",
        "colab_type": "code",
        "colab": {}
      },
      "source": [
        "## only run this if the tf version is less than 2.0.0\n",
        "!pip uninstall tensorflow\n",
        "!pip install tensorflow==2.0.0"
      ],
      "execution_count": 0,
      "outputs": []
    },
    {
      "cell_type": "markdown",
      "metadata": {
        "id": "gr4PpO7yZLr1",
        "colab_type": "text"
      },
      "source": [
        "# **Introduction to Keras**"
      ]
    },
    {
      "cell_type": "code",
      "metadata": {
        "id": "fm_85OZEdsq2",
        "colab_type": "code",
        "colab": {}
      },
      "source": [
        "import tensorflow as tf \n",
        "from tensorflow.keras import Sequential, layers, optimizers, losses, metrics"
      ],
      "execution_count": 0,
      "outputs": []
    },
    {
      "cell_type": "code",
      "metadata": {
        "id": "ALEBWepQdnxm",
        "colab_type": "code",
        "colab": {}
      },
      "source": [
        "\n",
        "## instantiating the model \n",
        "\n",
        "\n",
        "## add layers to the model: conv2D, dropout, maxpool2D and dense \n",
        "\n",
        "\n",
        "## compile the model with other parameters\n",
        "\n",
        "\n",
        "## run model training "
      ],
      "execution_count": 0,
      "outputs": []
    },
    {
      "cell_type": "markdown",
      "metadata": {
        "id": "RLYsOFsbfw8v",
        "colab_type": "text"
      },
      "source": [
        "# **Transfer Learning** \n",
        "\n"
      ]
    },
    {
      "cell_type": "code",
      "metadata": {
        "id": "6EcvoCehf4yE",
        "colab_type": "code",
        "colab": {}
      },
      "source": [
        "## imports necessary dependencies and utilities\n",
        "\n",
        "import numpy as np \n",
        "import matplotlib.pyplot as plt\n",
        "import cv2\n",
        "import tensorflow as tf\n",
        "from tqdm import trange \n",
        "from tensorflow.keras.preprocessing.image import ImageDataGenerator, load_img, img_to_array\n",
        "from tensorflow.keras.models import load_model\n",
        "from tensorflow.keras import Sequential, layers, applications, optimizers, losses, metrics\n",
        "# from preprocessing import Preprocessor "
      ],
      "execution_count": 0,
      "outputs": []
    },
    {
      "cell_type": "code",
      "metadata": {
        "id": "O66dFba_etWO",
        "colab_type": "code",
        "colab": {}
      },
      "source": [
        "## loads images from github repo\n",
        "\n",
        "!git clone https://github.com/Benjamintdk/ML201.git\n",
        "!cp -r ML201/Computer\\ Vision/train .\n",
        "!cp -r ML201/Computer\\ Vision/valid .\n"
      ],
      "execution_count": 0,
      "outputs": []
    },
    {
      "cell_type": "code",
      "metadata": {
        "id": "TjbvHc-mY9os",
        "colab_type": "code",
        "colab": {}
      },
      "source": [
        "## preprocesses the images into train and validation generators \n",
        "\n",
        "train_datagen=ImageDataGenerator(rescale=1./255, \n",
        "                                   height_shift_range=10,\n",
        "                                   width_shift_range=10,\n",
        "                                   rotation_range=90,\n",
        "                                   horizontal_flip=True,\n",
        "                                   vertical_flip=True,\n",
        "                                   brightness_range=[0.5, 2.5])\n",
        "\n",
        "valid_datagen=ImageDataGenerator(rescale=1./255)\n",
        "\n",
        "## Augments the downloaded data \n",
        "train_generator=train_datagen.flow_from_directory(directory=\"train\",\n",
        "                                                  target_size=(224,224),\n",
        "                                                  color_mode=\"rgb\",\n",
        "                                                  batch_size=8,\n",
        "                                                  class_mode=\"categorical\",\n",
        "                                                  shuffle=True, seed=42)\n",
        "\n",
        "valid_generator = valid_datagen.flow_from_directory(directory=\"valid\",\n",
        "                                                    target_size=(224, 224),\n",
        "                                                    color_mode=\"rgb\",\n",
        "                                                    batch_size=8,\n",
        "                                                    class_mode=\"categorical\",\n",
        "                                                    shuffle=True, seed=42)\n",
        "\n",
        "## save the labels in a file which will be downloaded later.\n",
        "labels = '\\n'.join(sorted(train_generator.class_indices.keys()))\n",
        "\n",
        "with open('labels.txt', 'w') as f:\n",
        "  f.write(labels)"
      ],
      "execution_count": 0,
      "outputs": []
    },
    {
      "cell_type": "code",
      "metadata": {
        "id": "SaLP8FNhykG8",
        "colab_type": "code",
        "colab": {}
      },
      "source": [
        "## load base model "
      ],
      "execution_count": 0,
      "outputs": []
    },
    {
      "cell_type": "code",
      "metadata": {
        "id": "l34zTGBbZOnH",
        "colab_type": "code",
        "colab": {}
      },
      "source": [
        "## develop the model and train it: "
      ],
      "execution_count": 0,
      "outputs": []
    },
    {
      "cell_type": "code",
      "metadata": {
        "id": "G7TX6BjglrVh",
        "colab_type": "code",
        "colab": {}
      },
      "source": [
        "  ## plot learning curves\n",
        "  \n",
        "  acc = history.history['accuracy']\n",
        "  val_acc = history.history['val_accuracy']\n",
        "\n",
        "  loss = history.history['loss']\n",
        "  val_loss = history.history['val_loss']\n",
        "\n",
        "  plt.figure(figsize=(8, 8))\n",
        "  plt.subplot(2, 1, 1)\n",
        "  plt.plot(acc, label='Training Accuracy')\n",
        "  plt.plot(val_acc, label='Validation Accuracy')\n",
        "  plt.legend(loc='lower right')\n",
        "  plt.ylabel('Accuracy')\n",
        "  plt.ylim([min(plt.ylim()),1])\n",
        "  plt.title('Training and Validation Accuracy')\n",
        "\n",
        "  plt.subplot(2, 1, 2)\n",
        "  plt.plot(loss, label='Training Loss')\n",
        "  plt.plot(val_loss, label='Validation Loss')\n",
        "  plt.legend(loc='upper right')\n",
        "  plt.ylabel('Cross Entropy')\n",
        "  plt.ylim([0,1.0])\n",
        "  plt.title('Training and Validation Loss')\n",
        "  plt.xlabel('epoch')\n",
        "  plt.show()"
      ],
      "execution_count": 0,
      "outputs": []
    },
    {
      "cell_type": "code",
      "metadata": {
        "id": "VPCQCyhjmh0_",
        "colab_type": "code",
        "colab": {}
      },
      "source": [
        "## save model when you are finished, it will pop up as a .h5 file in the side bar\n",
        "\n",
        "model.save('my_model.h5')  # creates a HDF5 file 'my_model.h5'\n",
        "del model  # deletes the existing model"
      ],
      "execution_count": 0,
      "outputs": []
    }
  ]
}